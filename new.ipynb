{
 "cells": [
  {
   "cell_type": "code",
   "execution_count": null,
   "metadata": {
    "vscode": {
     "languageId": "plaintext"
    }
   },
   "outputs": [],
   "source": [
    "import kagglehub\n",
    "import pandas as pd\n",
    "import os \n",
    "import numpy as np\n",
    "from sklearn.model_selection import train_test_split\n",
    "from sklearn.ensemble import RandomForestRegressor\n",
    "from sklearn.metrics import mean_absolute_error\n",
    "from sklearn.metrics import accuracy_score\n",
    "\n",
    "# Download latest version\n",
    "path = kagglehub.dataset_download(\"bhadramohit/climate-change-dataset\")\n",
    "file_path = os.path.join(path, \"climate_change_dataset.csv\") \n",
    "\n",
    "print(\"Path to dataset files:\", path)\n",
    "df = pd.read_csv(file_path) \n",
    "df['Country'] = df['Country'].astype('category').cat.codes\n",
    "df.head()\n",
    "\n",
    "# Upload to S3"
   ]
  },
  {
   "cell_type": "code",
   "execution_count": null,
   "metadata": {
    "vscode": {
     "languageId": "plaintext"
    }
   },
   "outputs": [],
   "source": [
    "features = ['Year', 'Country', 'Extreme Weather Events',\n",
    "             'Avg Temperature (°C)', 'Sea Level Rise (mm)' ]\n",
    "df_clean_2 = df[features]\n",
    "\n",
    "df_clean_2.head(10)\n",
    "df_clean_3 = df_clean_2.sort_values(by=['Country', 'Year'])\n",
    "df_clean_3.head(10)"
   ]
  },
  {
   "cell_type": "code",
   "execution_count": null,
   "metadata": {
    "vscode": {
     "languageId": "plaintext"
    }
   },
   "outputs": [],
   "source": [
    "train_data = df_clean_3[df_clean_3['Year'] < 2020]\n",
    "test_data = df_clean_3[df_clean_3['Year'] >= 2020] \n",
    "X = train_data[['Avg Temperature (°C)', 'Sea Level Rise (mm)']]\n",
    "Y = train_data['Extreme Weather Events']\n",
    "x_test = test_data[['Avg Temperature (°C)', 'Sea Level Rise (mm)']]\n",
    "y_test = test_data['Extreme Weather Events']\n",
    "\n",
    "\n",
    "model = RandomForestRegressor(n_estimators=100, random_state=42)\n",
    "model.fit(X_train, y_train)\n",
    "\n",
    "y_pred = model.predict(x_test)\n",
    "\n",
    "\n",
    "print(y_pred)\n",
    "accuracy = accuracy_score(y_test, y_pred)"
   ]
  }
 ],
 "metadata": {
  "language_info": {
   "name": "python"
  }
 },
 "nbformat": 4,
 "nbformat_minor": 2
}
